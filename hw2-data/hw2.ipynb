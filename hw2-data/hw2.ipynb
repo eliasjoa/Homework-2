{
 "cells": [
  {
   "cell_type": "code",
   "execution_count": 21,
   "metadata": {
    "pycharm": {
     "name": "#%%\n"
    }
   },
   "outputs": [],
   "source": [
    "import numpy as np\n",
    "import matplotlib.pyplot as plt\n",
    "import pickle\n",
    "from hw2 import get_mnist_threes_nines, display_image\n",
    "%matplotlib inline"
   ]
  },
  {
   "cell_type": "markdown",
   "metadata": {
    "pycharm": {
     "name": "#%% md\n"
    }
   },
   "source": [
    "1.1"
   ]
  },
  {
   "cell_type": "code",
   "execution_count": 22,
   "metadata": {
    "pycharm": {
     "name": "#%%\n"
    }
   },
   "outputs": [
    {
     "name": "stdout",
     "output_type": "stream",
     "text": [
      "(12080, 28, 28) (12080,)\n"
     ]
    },
    {
     "data": {
      "image/png": "[encoded data removed]",
      "text/plain": [
       "<Figure size 640x480 with 1 Axes>"
      ]
     },
     "metadata": {},
     "output_type": "display_data"
    }
   ],
   "source": [
    "train, test = get_mnist_threes_nines()\n",
    "X_train, y_train = train\n",
    "X_test, y_test = test\n",
    "\n",
    "print(X_train.shape, y_train.shape)\n",
    "rand = np.random.randint(low=0, high=X_train.shape[0])\n",
    "display_image(X_train[rand])\n"
   ]
  },
  {
   "cell_type": "markdown",
   "metadata": {},
   "source": [
    "1.2a (finite differences checker, used to help implement `my_nn_finite_difference_checker` in 1.3a. Feel free to modify the function signature, or to skip this part and implement `my_nn_finite_difference_checker` without this helper function.)"
   ]
  },
  {
   "cell_type": "code",
   "execution_count": 23,
   "metadata": {},
   "outputs": [],
   "source": [
    "def finite_difference_checker(f, x, k):\n",
    "    \"\"\"Returns \\frac{\\partial f}{\\partial x_k}(x)\"\"\"\n",
    "    epsilon = 10**-5\n",
    "    epsilon_vector = np.zeros(x.shape)\n",
    "    epsilon_vector[k] = epsilon\n",
    "    derivative = (f(x + epsilon_vector)[0] - f(x - epsilon_vector)[0])/2*epsilon\n",
    "    return derivative"
   ]
  },
  {
   "cell_type": "markdown",
   "metadata": {},
   "source": [
    "1.2b (functions that implement neural network layers)"
   ]
  },
  {
   "cell_type": "code",
   "execution_count": 24,
   "metadata": {},
   "outputs": [],
   "source": [
    "def sigmoid(s):\n",
    "\n",
    "    epsilon = 10**-15\n",
    "\n",
    "    if s<0:\n",
    "        return np.clip(np.exp(s)/(1+np.exp(s)), epsilon, 1-epsilon)\n",
    "    else:\n",
    "        return np.clip(1/(1+np.exp(-s)), epsilon, 1-epsilon)\n",
    "\n",
    "def sigmoid_derivative(s):\n",
    "    return sigmoid(s)*(1-sigmoid(s))\n",
    "\n",
    "def sigmoid_activation(x):\n",
    "\n",
    "    sigmoid_vectorized = np.vectorize(sigmoid)\n",
    "    out = sigmoid_vectorized(x)\n",
    "\n",
    "    sigmoid_derivative_vectorized = np.vectorize(sigmoid_derivative)\n",
    "    grad = sigmoid_derivative_vectorized(x)\n",
    "    assert grad.shape == x.shape\n",
    "    assert out.shape == x.shape\n",
    "    return out, grad\n",
    "\n",
    "def logistic_loss(g, y):\n",
    "    \"\"\"\n",
    "    Computes the loss and gradient for binary classification with logistic\n",
    "    loss\n",
    "\n",
    "    Inputs:\n",
    "    - g: Output of final layer with sigmoid activation,\n",
    "         of shape (n, 1)\n",
    "\n",
    "    - y: Vector of labels, of shape (n,) where y[i] is the label for x[i]\n",
    "         and y[i] in {0, 1}\n",
    "\n",
    "    Returns a tuple of:\n",
    "    - loss: array of losses\n",
    "    - dL_dg: Gradient of the loss with respect to g\n",
    "    \"\"\"\n",
    "    loss = -(y*np.log(g)+(1-y)*np.log(1-g))\n",
    "    dL_dg = (g-y)/(g-g**2)\n",
    "    return loss, dL_dg\n",
    "\n",
    "def relu(s):\n",
    "    return max(0,s)\n",
    "\n",
    "def relu_derivative(s):\n",
    "    return int(s>0)\n",
    "\n",
    "def relu_activation(s):\n",
    "    relu_vectorized = np.vectorize(relu)\n",
    "    out = relu_vectorized(s)\n",
    "\n",
    "    relu_derivative_vectorized = np.vectorize(relu_derivative)\n",
    "    ds = relu_derivative_vectorized(s)\n",
    "    assert ds.shape == s.shape\n",
    "    assert out.shape == s.shape\n",
    "    return out, ds\n",
    "\n",
    "def layer_forward(x, W, b, activation_fn):\n",
    "    bias = np.repeat(b, x.shape[0], axis = 0)\n",
    "    S_l = (x @ W) + bias\n",
    "    out, gradient = activation_fn(S_l)\n",
    "\n",
    "\n",
    "    #Need delta_j at layer l, weights at layer l and the derivative\n",
    "    #of activation function at S_i at layer l-1\n",
    "    cache = np.array([out, gradient, W])\n",
    "\n",
    "    return out, cache\n"
   ]
  },
  {
   "cell_type": "markdown",
   "metadata": {},
   "source": [
    "1.3b i, ii (deliverables for the sigmoid activation)"
   ]
  },
  {
   "cell_type": "code",
   "execution_count": 25,
   "metadata": {},
   "outputs": [
    {
     "name": "stdout",
     "output_type": "stream",
     "text": [
      "[0.73 0.5  0.27]\n",
      "[0.2  0.25 0.2 ]\n",
      "================================================================================\n",
      "[1.e-15 1.e+00]\n",
      "[1.00000000e-15 9.99200722e-16]\n"
     ]
    }
   ],
   "source": [
    "# 1.3b i\n",
    "s = np.asarray([1., 0., -1])\n",
    "out, grad = sigmoid_activation(s)\n",
    "with np.printoptions(precision=2):\n",
    "    print(out)\n",
    "    print(grad)\n",
    "    \n",
    "print(\"=\"*80)\n",
    "\n",
    "# 1.3b ii\n",
    "s = np.asarray([-1000., 1000.])\n",
    "out, grad = sigmoid_activation(s)\n",
    "print(out)\n",
    "print(grad)"
   ]
  },
  {
   "cell_type": "markdown",
   "metadata": {
    "pycharm": {
     "name": "#%% md\n"
    }
   },
   "source": [
    "1.3 ii\n",
    "We'll get an error if the exp() function takes in a too negative number. I therefore switch between two different equations (but yielding same number) for the sigmoid to avoid having exp() of a large number."
   ]
  },
  {
   "cell_type": "markdown",
   "metadata": {},
   "source": [
    "1.3b iii: What is the derivative of the negative log-likelihood loss with respect to $g$?\n",
    "\n",
    "The derivative is $\\frac{g-y}{g-g^2}$.\n",
    "\n",
    "1.3b iv: Explain what is returned in `cache` in your `layer_forward` implementation. (Trying to answer this question before completing your implementation might help think about should go in `cache`, which should be stuff computed during the forward pass that is needed for backpropagation in the backward pass. Just make sure your final answer pertains to what you ultimately return in `cache`.)\n",
    "\n",
    "\n",
    "- Output of the layer to use when calculating $\\frac{\\partial L}{\\partial w_{ij}}$ using $\\delta_j$\n",
    "- The gradient of the output given $S_l$ used when calculating $delta_j$\n",
    "- The weights from layer i to j, used to calculate $delta_j$\n"
   ]
  },
  {
   "cell_type": "markdown",
   "metadata": {},
   "source": [
    "1.2c (in this part you will code functions that initialize the neural network's weights. You will also code the forward pass which ties everything together, computing the output of a neural network with weights given by `weight_matrices` + `biases`, activation functions given by `activations`, on the input `X_batch`, a 2d input where each row is an individual input vector)"
   ]
  },
  {
   "cell_type": "code",
   "execution_count": 26,
   "metadata": {},
   "outputs": [],
   "source": [
    "def create_weight_matrices(layer_dims):\n",
    "    \"\"\"\n",
    "    Creates a list of weight matrices defining the weights of NN\n",
    "    \n",
    "    Inputs:\n",
    "    - layer_dims: A list whose size is the number of layers. layer_dims[i] defines\n",
    "      the number of neurons in the i+1 layer.\n",
    "\n",
    "    Returns a list of weight matrices\n",
    "    \"\"\"\n",
    "    weights = []\n",
    "    for i in range(len(layer_dims)-1):\n",
    "        weights.append(np.full((layer_dims[i], layer_dims[i+1]), np.random.normal(loc=0.0, scale= 0.01, size = (layer_dims[i], layer_dims[i+1]))))\n",
    "    return weights\n",
    "\n",
    "def create_bias_vectors(layer_dims):\n",
    "    biases = []\n",
    "    for i in range(len(layer_dims)-1):\n",
    "        biases.append(np.full((1, layer_dims[i+1]), np.random.normal(loc=0.0, scale = 0.01, size = (1, layer_dims[i+1]))))\n",
    "    return biases\n",
    "\n",
    "def forward_pass(X_batch, weight_matrices, biases, activations):\n",
    "    layer_caches = [[X_batch]]\n",
    "    outs = []\n",
    "    output = X_batch\n",
    "    for i in range(len(weight_matrices)):\n",
    "        output, cache = layer_forward(output, weight_matrices[i], biases[i], activations[i])\n",
    "        outs.append(output)\n",
    "        layer_caches.append(cache)\n",
    "\n",
    "    output = outs[-1]\n",
    "    return output, layer_caches"
   ]
  },
  {
   "cell_type": "markdown",
   "metadata": {},
   "source": [
    "1.3c (deliverable which has you run a forward pass of your neural network and compute its logistic loss on some output)"
   ]
  },
  {
   "cell_type": "code",
   "execution_count": 27,
   "metadata": {},
   "outputs": [
    {
     "name": "stdout",
     "output_type": "stream",
     "text": [
      "0.6985204992027605\n"
     ]
    },
    {
     "name": "stderr",
     "output_type": "stream",
     "text": [
      "C:\\Users\\elias\\AppData\\Local\\Temp\\ipykernel_26764\\2568116894.py:68: VisibleDeprecationWarning: Creating an ndarray from ragged nested sequences (which is a list-or-tuple of lists-or-tuples-or ndarrays with different lengths or shapes) is deprecated. If you meant to do this, you must specify 'dtype=object' when creating the ndarray.\n",
      "  cache = np.array([out, gradient, W])\n"
     ]
    }
   ],
   "source": [
    "with open(\"test_batch_weights_biases.pkl\", \"rb\") as fn:\n",
    "    (X_batch, y_batch, weight_matrices, biases) = pickle.load(fn)\n",
    "activations = [relu_activation, sigmoid_activation]\n",
    "output, layer_caches = forward_pass(X_batch, weight_matrices, biases,\n",
    "                         activations)\n",
    "loss, dL_dg = logistic_loss(output, y_batch)\n",
    "print(loss.mean())"
   ]
  },
  {
   "cell_type": "markdown",
   "metadata": {},
   "source": [
    "1.3a (deliverable which has you compute the gradient w.r.t. `weight_matrices` and `biases` using a finite differences checker)"
   ]
  },
  {
   "cell_type": "code",
   "execution_count": 28,
   "metadata": {},
   "outputs": [
    {
     "name": "stdout",
     "output_type": "stream",
     "text": [
      "[[0. 0.]\n",
      " [0. 0.]\n",
      " [0. 0.]\n",
      " [0. 0.]]\n",
      "\n",
      "[[0.]\n",
      " [0.]]\n",
      "\n",
      "[0.0, 0.0]\n",
      "\n",
      "[-0.5026794540896606]\n"
     ]
    },
    {
     "name": "stderr",
     "output_type": "stream",
     "text": [
      "C:\\Users\\elias\\AppData\\Local\\Temp\\ipykernel_26764\\2568116894.py:68: VisibleDeprecationWarning: Creating an ndarray from ragged nested sequences (which is a list-or-tuple of lists-or-tuples-or ndarrays with different lengths or shapes) is deprecated. If you meant to do this, you must specify 'dtype=object' when creating the ndarray.\n",
      "  cache = np.array([out, gradient, W])\n"
     ]
    }
   ],
   "source": [
    "with open(\"test_batch_weights_biases.pkl\", \"rb\") as fn:\n",
    "    (X_batch, y_batch, weight_matrices, biases) = pickle.load(fn)\n",
    "\n",
    "def my_nn_finite_difference_checker(X_batch, y_batch, weight_matrices, biases, activations):\n",
    "    output =  forward_pass(X_batch, weight_matrices, biases, activations)[0]\n",
    "\n",
    "    epsilon = 1E-5\n",
    "    grad_Ws = []\n",
    "    grad_bs = []\n",
    "\n",
    "    for layer_index in range(len(weight_matrices)):\n",
    "        layer_weight_difs = np.zeros(weight_matrices[layer_index].shape)\n",
    "        layer_bias_difs = []\n",
    "\n",
    "        for c in range(len(weight_matrices[layer_index])):\n",
    "            for r in range(len(weight_matrices[layer_index][c])):\n",
    "                weight_matrices[layer_index][c, r] += epsilon\n",
    "                large = logistic_loss(forward_pass(X_batch, weight_matrices, biases, activations)[0], y_batch)[0]\n",
    "\n",
    "                weight_matrices[layer_index][c, r] -= 2*epsilon\n",
    "                small = logistic_loss(forward_pass(X_batch, weight_matrices, biases, activations)[0], y_batch)[0]\n",
    "\n",
    "                weight_matrices[layer_index][c, r] += epsilon\n",
    "\n",
    "                dif = np.average((large - small) / (2*epsilon))\n",
    "                layer_weight_difs[c, r] = dif\n",
    "\n",
    "        for bias_index in range(len(biases[layer_index][0])):\n",
    "            biases[layer_index][0][bias_index] -= epsilon\n",
    "            small = logistic_loss(forward_pass(X_batch, weight_matrices, biases, activations)[0], y_batch)[0]\n",
    "\n",
    "            biases[layer_index][0][bias_index] += 2*epsilon\n",
    "            large = logistic_loss(forward_pass(X_batch, weight_matrices, biases, activations)[0], y_batch)[0]\n",
    "\n",
    "            biases[layer_index][0][bias_index] -= epsilon\n",
    "\n",
    "            dif = np.average((large - small) / (2*epsilon))\n",
    "            layer_bias_difs.append(dif)\n",
    "\n",
    "        grad_Ws.append(layer_weight_difs)\n",
    "        grad_bs.append(layer_bias_difs)\n",
    "\n",
    "    return grad_Ws, grad_bs\n",
    "\n",
    "grad_Ws, grad_bs = my_nn_finite_difference_checker(X_batch, y_batch, weight_matrices, biases, activations)\n",
    "\n",
    "with np.printoptions(precision=2):\n",
    "    print(grad_Ws[0])\n",
    "    print()\n",
    "    print(grad_Ws[1])\n",
    "    print()\n",
    "    print(grad_bs[0])\n",
    "    print()\n",
    "    print(grad_bs[1])"
   ]
  },
  {
   "cell_type": "markdown",
   "metadata": {},
   "source": [
    "1.2d (the backward pass!!!!)"
   ]
  },
  {
   "cell_type": "code",
   "execution_count": 29,
   "metadata": {},
   "outputs": [],
   "source": [
    "def backward_pass(dL_dg, layer_caches):\n",
    "    grad_Ws = []\n",
    "    grad_bs = []\n",
    "\n",
    "    nr_of_layers = len(layer_caches)\n",
    "    deltas = [None] * nr_of_layers\n",
    "\n",
    "    dgds_L = np.array(layer_caches[-1][1]).flatten()\n",
    "    delta_L = np.reshape(dL_dg * dgds_L, (-1, 1))\n",
    "\n",
    "    deltas[-1] = delta_L\n",
    "\n",
    "    #Compute delta s^l for other layers\n",
    "    for l in reversed(range(1, nr_of_layers - 1)):\n",
    "        out, dg_dsLm1, _ = layer_caches[l]\n",
    "        W = layer_caches[l + 1][2]\n",
    "\n",
    "        # Compute delta for layer below\n",
    "        delta_L = deltas[l + 1]\n",
    "        delta_l = dg_dsLm1  * (delta_L@W.T)\n",
    "        deltas[l] = delta_l\n",
    "\n",
    "\n",
    "    #grad Ws\n",
    "    for l in range(nr_of_layers - 1):\n",
    "        out = layer_caches[l][0]\n",
    "        out_mat = np.average(out, axis=0).reshape((-1, 1))\n",
    "        delta_mat = np.average(deltas[l + 1], axis=0).reshape((1, -1))\n",
    "        dl_dW = out_mat @ delta_mat\n",
    "        grad_Ws.append(dl_dW)\n",
    "\n",
    "    #grad bs\n",
    "    for delta in deltas:\n",
    "        if delta is not None:\n",
    "            grad_bs.append(np.average(delta, axis=0))\n",
    "\n",
    "    return grad_Ws, grad_bs"
   ]
  },
  {
   "cell_type": "markdown",
   "metadata": {},
   "source": [
    "1.3d (test your backward pass! compare it with 1.3a, the gradient computed by the finite difference checker. The answers should match!)"
   ]
  },
  {
   "cell_type": "code",
   "execution_count": 30,
   "metadata": {},
   "outputs": [
    {
     "name": "stderr",
     "output_type": "stream",
     "text": [
      "C:\\Users\\elias\\AppData\\Local\\Temp\\ipykernel_26764\\2568116894.py:68: VisibleDeprecationWarning: Creating an ndarray from ragged nested sequences (which is a list-or-tuple of lists-or-tuples-or ndarrays with different lengths or shapes) is deprecated. If you meant to do this, you must specify 'dtype=object' when creating the ndarray.\n",
      "  cache = np.array([out, gradient, W])\n"
     ]
    },
    {
     "ename": "ValueError",
     "evalue": "operands could not be broadcast together with shapes (2,2) (4,2) ",
     "output_type": "error",
     "traceback": [
      "\u001B[1;31m---------------------------------------------------------------------------\u001B[0m",
      "\u001B[1;31mValueError\u001B[0m                                Traceback (most recent call last)",
      "Cell \u001B[1;32mIn [30], line 8\u001B[0m\n\u001B[0;32m      5\u001B[0m output, layer_caches \u001B[38;5;241m=\u001B[39m forward_pass(X_batch, weight_matrices, biases,\n\u001B[0;32m      6\u001B[0m                                     activations)\n\u001B[0;32m      7\u001B[0m loss, dL_dg \u001B[38;5;241m=\u001B[39m logistic_loss(output, y_batch)\n\u001B[1;32m----> 8\u001B[0m grad_Ws, grad_bs \u001B[38;5;241m=\u001B[39m \u001B[43mbackward_pass\u001B[49m\u001B[43m(\u001B[49m\u001B[43mdL_dg\u001B[49m\u001B[43m,\u001B[49m\u001B[43m \u001B[49m\u001B[43mlayer_caches\u001B[49m\u001B[43m)\u001B[49m\n\u001B[0;32m     10\u001B[0m grad_Ws_fd, grad_bs_fd \u001B[38;5;241m=\u001B[39m my_nn_finite_difference_checker(X_batch,\n\u001B[0;32m     11\u001B[0m                                                    y_batch,\n\u001B[0;32m     12\u001B[0m                                                    weight_matrices,\n\u001B[0;32m     13\u001B[0m                                                    biases,\n\u001B[0;32m     14\u001B[0m                                                    activations)\n\u001B[0;32m     16\u001B[0m \u001B[38;5;28;01mwith\u001B[39;00m np\u001B[38;5;241m.\u001B[39mprintoptions(precision\u001B[38;5;241m=\u001B[39m\u001B[38;5;241m2\u001B[39m):\n",
      "Cell \u001B[1;32mIn [29], line 20\u001B[0m, in \u001B[0;36mbackward_pass\u001B[1;34m(dL_dg, layer_caches)\u001B[0m\n\u001B[0;32m     18\u001B[0m     \u001B[38;5;66;03m# Compute delta for layer below\u001B[39;00m\n\u001B[0;32m     19\u001B[0m     delta_L \u001B[38;5;241m=\u001B[39m deltas[l \u001B[38;5;241m+\u001B[39m \u001B[38;5;241m1\u001B[39m]\n\u001B[1;32m---> 20\u001B[0m     delta_l \u001B[38;5;241m=\u001B[39m \u001B[43mdg_dsLm1\u001B[49m\u001B[43m  \u001B[49m\u001B[38;5;241;43m*\u001B[39;49m\u001B[43m \u001B[49m\u001B[43m(\u001B[49m\u001B[43mdelta_L\u001B[49m\u001B[38;5;129;43m@np\u001B[39;49m\u001B[38;5;241;43m.\u001B[39;49m\u001B[43mtranspose\u001B[49m\u001B[43m(\u001B[49m\u001B[43mW\u001B[49m\u001B[43m)\u001B[49m\u001B[43m)\u001B[49m\n\u001B[0;32m     21\u001B[0m     deltas[l] \u001B[38;5;241m=\u001B[39m delta_l\n\u001B[0;32m     24\u001B[0m \u001B[38;5;66;03m#grad Ws\u001B[39;00m\n",
      "\u001B[1;31mValueError\u001B[0m: operands could not be broadcast together with shapes (2,2) (4,2) "
     ]
    }
   ],
   "source": [
    "with open(\"test_batch_weights_biases.pkl\", \"rb\") as fn:\n",
    "    (X_batch, y_batch, weight_matrices, biases) = pickle.load(fn)\n",
    "\n",
    "activations = [relu_activation, sigmoid_activation]\n",
    "output, layer_caches = forward_pass(X_batch, weight_matrices, biases,\n",
    "                                    activations)\n",
    "loss, dL_dg = logistic_loss(output, y_batch)\n",
    "grad_Ws, grad_bs = backward_pass(dL_dg, layer_caches)\n",
    "\n",
    "grad_Ws_fd, grad_bs_fd = my_nn_finite_difference_checker(X_batch,\n",
    "                                                   y_batch,\n",
    "                                                   weight_matrices,\n",
    "                                                   biases,\n",
    "                                                   activations)\n",
    "\n",
    "with np.printoptions(precision=2):\n",
    "    print(grad_Ws[0])\n",
    "    print(grad_Ws_fd[0])\n",
    "    print()\n",
    "    print(grad_Ws[1])\n",
    "    print(grad_Ws_fd[1])\n",
    "    print()\n",
    "    print(grad_bs[0])\n",
    "    print(grad_bs_fd[0])\n",
    "    print()\n",
    "    print(grad_bs[1])\n",
    "    print(grad_bs_fd[1])"
   ]
  },
  {
   "cell_type": "markdown",
   "metadata": {},
   "source": [
    "1.2e (train your neural network on MNIST! save the training and test losses and accuracies at each iteration to use in 1.3e)"
   ]
  },
  {
   "cell_type": "code",
   "execution_count": 31,
   "metadata": {},
   "outputs": [],
   "source": [
    "(X_train, y_train), (X_test, y_test) = get_mnist_threes_nines()\n",
    "layer_dims = [784, 200, 1]\n",
    "activations = [relu_activation, sigmoid_activation]\n",
    "weights = create_weight_matrices(layer_dims)\n",
    "biases = create_bias_vectors([200, 1])"
   ]
  },
  {
   "cell_type": "markdown",
   "metadata": {},
   "source": [
    "1.3e code answers for i, ii, iii"
   ]
  },
  {
   "cell_type": "code",
   "execution_count": null,
   "metadata": {},
   "outputs": [],
   "source": [
    "# i\n",
    "# Plot the train and test losses from the MNIST network with step size = 0.1\n",
    "# YOUR CODE HERE\n",
    "\n",
    "# ii\n",
    "# Plot the train and test accuracies from the MNIST network with step size = 0.1\n",
    "# YOUR CODE HERE\n",
    "\n",
    "# iii\n",
    "# Visualize (plot) some images that are misclassified by your network"
   ]
  },
  {
   "cell_type": "markdown",
   "metadata": {},
   "source": [
    "1.3e iii:\n",
    "Examine the images that your network guesses incorrectly, and explain at a high level\n",
    "what patterns you see in those images.\n",
    "\n",
    "**your answer here**\n",
    "\n",
    "1.3e iv:\n",
    "Rerun the neural network training but now increase the step size to 10.0. What happens?\n",
    "You do not need to include plots here.\n",
    "\n",
    "**your answer here**"
   ]
  },
  {
   "cell_type": "markdown",
   "metadata": {},
   "source": [
    "1.3f (optional) (Train a network to fit 100 random images to the first 100 original labels! How fast can you memorize the dataset?)"
   ]
  },
  {
   "cell_type": "code",
   "execution_count": null,
   "metadata": {},
   "outputs": [],
   "source": [
    "X_train = np.random.rand(100, 784)\n",
    "# YOUR CODE HERE"
   ]
  }
 ],
 "metadata": {
  "kernelspec": {
   "display_name": "Python 3 (ipykernel)",
   "language": "python",
   "name": "python3"
  },
  "language_info": {
   "codemirror_mode": {
    "name": "ipython",
    "version": 3
   },
   "file_extension": ".py",
   "mimetype": "text/x-python",
   "name": "python",
   "nbconvert_exporter": "python",
   "pygments_lexer": "ipython3",
   "version": "3.10.2"
  }
 },
 "nbformat": 4,
 "nbformat_minor": 4
}